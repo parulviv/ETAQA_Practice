{
 "cells": [
  {
   "cell_type": "code",
   "execution_count": 1,
   "id": "4a702ab2-8932-479a-b7ee-66cd10e09d71",
   "metadata": {},
   "outputs": [],
   "source": [
    "import pandas as pd\n",
    "\n"
   ]
  },
  {
   "cell_type": "code",
   "execution_count": null,
   "id": "ab748da0-df2a-415d-9be0-8957e668ace9",
   "metadata": {},
   "outputs": [],
   "source": [
    "pd.Data"
   ]
  }
 ],
 "metadata": {
  "kernelspec": {
   "display_name": "Python 3 (ipykernel)",
   "language": "python",
   "name": "python3"
  },
  "language_info": {
   "codemirror_mode": {
    "name": "ipython",
    "version": 3
   },
   "file_extension": ".py",
   "mimetype": "text/x-python",
   "name": "python",
   "nbconvert_exporter": "python",
   "pygments_lexer": "ipython3",
   "version": "3.12.6"
  }
 },
 "nbformat": 4,
 "nbformat_minor": 5
}
